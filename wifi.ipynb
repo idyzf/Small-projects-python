{
 "cells": [
  {
   "cell_type": "code",
   "execution_count": null,
   "id": "6580fdc6-d2a2-4dcd-aedd-e9ef3a61de74",
   "metadata": {},
   "outputs": [
    {
     "name": "stdout",
     "output_type": "stream",
     "text": [
      "WiFi.ASP                      |  \n",
      "SAMPA - ZANESCOF - 2.4G       |  drinivaz\n",
      "Repetidor1                    |  dalila75\n",
      "VIVOFIBRA-2391                |  huLwCb87P6\n",
      "Casa 2891                     |  ib28972891*\n",
      "Laura                         |  urano999\n",
      "Funcion\\xe1rios               |  ENCODING ERROR\n",
      "Visitantes                    |  \n",
      "AZUL                          |  Tostes@2020\n",
      "VIVO-A721                     |  RRSG4Y42\n",
      "Casa das Bruxas               |  Abracadabra8\n",
      "Repeti                        |  drinivaz\n",
      "VIVO-04C4                     |  s4PHJWK3CK\n",
      "CARDUME                       |  nocultoorando\n",
      "RepWifi                       |  tarjapreta\n",
      "ASUS_A001D                    |  idelindinha\n",
      "VIVOFIBRA-C6EC                |  33d71ac6ec\n",
      "VIVOFIBRA-C6EC_plus           |  33d71ac6ec\n",
      "CNA_ABERTO_ALUNOS_1_superior  |  \n",
      "Zenocao vivo                  |  seNha312@\n",
      "Ex Nunc                       |  balama2897*\n"
     ]
    }
   ],
   "source": [
    "import subprocess\n",
    "\n",
    "data = subprocess.check_output(['netsh', 'wlan', 'show', 'profiles']).decode('utf-8', errors=\"backslashreplace\").split('\\n')\n",
    "profiles = [i.split(\":\")[1][1:-1] for i in data if \"All User Profile\" in i]\n",
    "for i in profiles:\n",
    "    try:\n",
    "        results = subprocess.check_output(['netsh', 'wlan', 'show', 'profile', i, 'key=clear']).decode('utf-8', errors=\"backslashreplace\").split('\\n')\n",
    "        results = [b.split(\":\")[1][1:-1] for b in results if \"Key Content\" in b]\n",
    "        try:\n",
    "            print (\"{:<30}|  {:<}\".format(i, results[0]))\n",
    "        except IndexError:\n",
    "            print (\"{:<30}|  {:<}\".format(i, \"\"))\n",
    "    except subprocess.CalledProcessError:\n",
    "        print (\"{:<30}|  {:<}\".format(i, \"ENCODING ERROR\"))\n",
    "input(\"\")\n",
    "        "
   ]
  },
  {
   "cell_type": "code",
   "execution_count": null,
   "id": "d7ba3c9e-5b53-414c-866e-83e11c2c5a53",
   "metadata": {},
   "outputs": [],
   "source": []
  }
 ],
 "metadata": {
  "kernelspec": {
   "display_name": "Python 3 (ipykernel)",
   "language": "python",
   "name": "python3"
  },
  "language_info": {
   "codemirror_mode": {
    "name": "ipython",
    "version": 3
   },
   "file_extension": ".py",
   "mimetype": "text/x-python",
   "name": "python",
   "nbconvert_exporter": "python",
   "pygments_lexer": "ipython3",
   "version": "3.9.12"
  }
 },
 "nbformat": 4,
 "nbformat_minor": 5
}
